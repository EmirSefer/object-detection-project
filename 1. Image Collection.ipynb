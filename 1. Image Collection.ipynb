{
 "cells": [
  {
   "cell_type": "markdown",
   "metadata": {},
   "source": [
    "# 1. Import Dependencies"
   ]
  },
  {
   "cell_type": "code",
   "execution_count": 1,
   "metadata": {},
   "outputs": [
    {
     "name": "stdout",
     "output_type": "stream",
     "text": [
      "Collecting opencv-python\n",
      "  Using cached opencv_python-4.8.1.78-cp37-abi3-win_amd64.whl.metadata (20 kB)\n",
      "Collecting numpy>=1.21.2 (from opencv-python)\n",
      "  Using cached numpy-1.26.2-cp310-cp310-win_amd64.whl.metadata (61 kB)\n",
      "Using cached opencv_python-4.8.1.78-cp37-abi3-win_amd64.whl (38.1 MB)\n",
      "Using cached numpy-1.26.2-cp310-cp310-win_amd64.whl (15.8 MB)\n",
      "Installing collected packages: numpy, opencv-python\n",
      "Successfully installed numpy-1.26.2 opencv-python-4.8.1.78\n"
     ]
    }
   ],
   "source": [
    "!pip install opencv-python"
   ]
  },
  {
   "cell_type": "code",
   "execution_count": 2,
   "metadata": {},
   "outputs": [],
   "source": [
    "# Import opencv\n",
    "import cv2 \n",
    "\n",
    "# Import uuid\n",
    "import uuid\n",
    "\n",
    "# Import Operating System\n",
    "import os\n",
    "\n",
    "# Import time\n",
    "import time"
   ]
  },
  {
   "cell_type": "markdown",
   "metadata": {},
   "source": [
    "# 2. Define Images to Collect"
   ]
  },
  {
   "cell_type": "code",
   "execution_count": 7,
   "metadata": {},
   "outputs": [],
   "source": [
    "labels = ['headphones', 'keyboard', 'mouse', 'controller','fan']\n",
    "number_imgs = 5"
   ]
  },
  {
   "cell_type": "markdown",
   "metadata": {},
   "source": [
    "# 3. Setup Folders "
   ]
  },
  {
   "cell_type": "code",
   "execution_count": 4,
   "metadata": {},
   "outputs": [],
   "source": [
    "IMAGES_PATH = os.path.join('Tensorflow', 'workspace', 'images', 'collectedimages')"
   ]
  },
  {
   "cell_type": "code",
   "execution_count": 5,
   "metadata": {},
   "outputs": [],
   "source": [
    "if not os.path.exists(IMAGES_PATH):\n",
    "    if os.name == 'posix':\n",
    "        !mkdir -p {IMAGES_PATH}\n",
    "    if os.name == 'nt':\n",
    "         !mkdir {IMAGES_PATH}\n",
    "for label in labels:\n",
    "    path = os.path.join(IMAGES_PATH, label)\n",
    "    if not os.path.exists(path):\n",
    "        !mkdir {path}"
   ]
  },
  {
   "cell_type": "markdown",
   "metadata": {},
   "source": [
    "# 4. Capture Images"
   ]
  },
  {
   "cell_type": "code",
   "execution_count": 6,
   "metadata": {},
   "outputs": [
    {
     "name": "stdout",
     "output_type": "stream",
     "text": [
      "Collecting images for headphones\n",
      "Collecting image 0\n",
      "Collecting image 1\n",
      "Collecting image 2\n",
      "Collecting image 3\n",
      "Collecting image 4\n",
      "Collecting images for keyboard\n",
      "Collecting image 0\n",
      "Collecting image 1\n",
      "Collecting image 2\n",
      "Collecting image 3\n",
      "Collecting image 4\n",
      "Collecting images for mouse\n",
      "Collecting image 0\n",
      "Collecting image 1\n",
      "Collecting image 2\n",
      "Collecting image 3\n",
      "Collecting image 4\n",
      "Collecting images for controller\n",
      "Collecting image 0\n",
      "Collecting image 1\n",
      "Collecting image 2\n",
      "Collecting image 3\n",
      "Collecting image 4\n"
     ]
    }
   ],
   "source": [
    "for label in labels:\n",
    "    cap = cv2.VideoCapture(0)\n",
    "    print('Collecting images for {}'.format(label))\n",
    "    time.sleep(5)\n",
    "    for imgnum in range(number_imgs):\n",
    "        print('Collecting image {}'.format(imgnum))\n",
    "        ret, frame = cap.read()\n",
    "        imgname = os.path.join(IMAGES_PATH,label,label+'.'+'{}.jpg'.format(str(uuid.uuid1())))\n",
    "        cv2.imwrite(imgname, frame)\n",
    "        cv2.imshow('frame', frame)\n",
    "        time.sleep(2)\n",
    "\n",
    "        if cv2.waitKey(1) & 0xFF == ord('q'):\n",
    "            break\n",
    "cap.release()\n",
    "cv2.destroyAllWindows()"
   ]
  },
  {
   "cell_type": "markdown",
   "metadata": {},
   "source": [
    "# 5. Image Labelling"
   ]
  },
  {
   "cell_type": "code",
   "execution_count": 8,
   "metadata": {},
   "outputs": [
    {
     "name": "stdout",
     "output_type": "stream",
     "text": [
      "Collecting pyqt5\n",
      "  Using cached PyQt5-5.15.10-cp37-abi3-win_amd64.whl.metadata (2.2 kB)\n",
      "Collecting lxml\n",
      "  Using cached lxml-4.9.4-cp310-cp310-win_amd64.whl.metadata (3.8 kB)\n",
      "Collecting PyQt5-sip<13,>=12.13 (from pyqt5)\n",
      "  Using cached PyQt5_sip-12.13.0-cp310-cp310-win_amd64.whl.metadata (524 bytes)\n",
      "Collecting PyQt5-Qt5>=5.15.2 (from pyqt5)\n",
      "  Using cached PyQt5_Qt5-5.15.2-py3-none-win_amd64.whl (50.1 MB)\n",
      "Using cached PyQt5-5.15.10-cp37-abi3-win_amd64.whl (6.8 MB)\n",
      "Using cached lxml-4.9.4-cp310-cp310-win_amd64.whl (3.8 MB)\n",
      "Using cached PyQt5_sip-12.13.0-cp310-cp310-win_amd64.whl (78 kB)\n",
      "Installing collected packages: PyQt5-Qt5, PyQt5-sip, lxml, pyqt5\n",
      "Successfully installed PyQt5-Qt5-5.15.2 PyQt5-sip-12.13.0 lxml-4.9.4 pyqt5-5.15.10\n"
     ]
    }
   ],
   "source": [
    "!pip install --upgrade pyqt5 lxml"
   ]
  },
  {
   "cell_type": "code",
   "execution_count": 9,
   "metadata": {},
   "outputs": [],
   "source": [
    "LABELIMG_PATH = os.path.join('Tensorflow', 'labelimg')"
   ]
  },
  {
   "cell_type": "code",
   "execution_count": 10,
   "metadata": {},
   "outputs": [
    {
     "name": "stderr",
     "output_type": "stream",
     "text": [
      "Cloning into 'Tensorflow\\labelimg'...\n"
     ]
    }
   ],
   "source": [
    "if not os.path.exists(LABELIMG_PATH):\n",
    "    !mkdir {LABELIMG_PATH}\n",
    "    !git clone https://github.com/tzutalin/labelImg {LABELIMG_PATH}"
   ]
  },
  {
   "cell_type": "code",
   "execution_count": 11,
   "metadata": {},
   "outputs": [],
   "source": [
    "if os.name == 'posix':\n",
    "    !make qt5py3\n",
    "if os.name =='nt':\n",
    "    !cd {LABELIMG_PATH} && pyrcc5 -o libs/resources.py resources.qrc"
   ]
  },
  {
   "cell_type": "code",
   "execution_count": 12,
   "metadata": {},
   "outputs": [
    {
     "name": "stdout",
     "output_type": "stream",
     "text": [
      "Image:C:\\Users\\Emir\\Desktop\\ObjectDetectionv2\\TFODCourse\\Tensorflow\\workspace\\images\\train\\controller.bc9841da-a4c2-11ee-86e0-04421a1f50dc.jpg -> Annotation:C:/Users/Emir/Desktop/ObjectDetectionv2/TFODCourse/Tensorflow/workspace/images/train\\controller.bc9841da-a4c2-11ee-86e0-04421a1f50dc.xml\n",
      "Image:C:\\Users\\Emir\\Desktop\\ObjectDetectionv2\\TFODCourse\\Tensorflow\\workspace\\images\\train\\controller.bf025782-a4c2-11ee-97ad-04421a1f50dc.jpg -> Annotation:C:/Users/Emir/Desktop/ObjectDetectionv2/TFODCourse/Tensorflow/workspace/images/train\\controller.bf025782-a4c2-11ee-97ad-04421a1f50dc.xml\n",
      "Image:C:\\Users\\Emir\\Desktop\\ObjectDetectionv2\\TFODCourse\\Tensorflow\\workspace\\images\\train\\controller.c16e6970-a4c2-11ee-a30b-04421a1f50dc.jpg -> Annotation:C:/Users/Emir/Desktop/ObjectDetectionv2/TFODCourse/Tensorflow/workspace/images/train\\controller.c16e6970-a4c2-11ee-a30b-04421a1f50dc.xml\n",
      "Image:C:\\Users\\Emir\\Desktop\\ObjectDetectionv2\\TFODCourse\\Tensorflow\\workspace\\images\\train\\controller.c0381246-a4c2-11ee-973d-04421a1f50dc.jpg -> Annotation:C:/Users/Emir/Desktop/ObjectDetectionv2/TFODCourse/Tensorflow/workspace/images/train\\controller.c0381246-a4c2-11ee-973d-04421a1f50dc.xml\n",
      "Image:C:\\Users\\Emir\\Desktop\\ObjectDetectionv2\\TFODCourse\\Tensorflow\\workspace\\images\\train\\headphones.9f31bcb2-a4c2-11ee-8ef6-04421a1f50dc.jpg -> Annotation:C:/Users/Emir/Desktop/ObjectDetectionv2/TFODCourse/Tensorflow/workspace/images/train\\headphones.9f31bcb2-a4c2-11ee-8ef6-04421a1f50dc.xml\n",
      "Image:C:\\Users\\Emir\\Desktop\\ObjectDetectionv2\\TFODCourse\\Tensorflow\\workspace\\images\\train\\headphones.a2d6975c-a4c2-11ee-90bb-04421a1f50dc.jpg -> Annotation:C:/Users/Emir/Desktop/ObjectDetectionv2/TFODCourse/Tensorflow/workspace/images/train\\headphones.a2d6975c-a4c2-11ee-90bb-04421a1f50dc.xml\n",
      "Image:C:\\Users\\Emir\\Desktop\\ObjectDetectionv2\\TFODCourse\\Tensorflow\\workspace\\images\\train\\headphones.a19f559c-a4c2-11ee-af0f-04421a1f50dc.jpg -> Annotation:C:/Users/Emir/Desktop/ObjectDetectionv2/TFODCourse/Tensorflow/workspace/images/train\\headphones.a19f559c-a4c2-11ee-af0f-04421a1f50dc.xml\n",
      "Image:C:\\Users\\Emir\\Desktop\\ObjectDetectionv2\\TFODCourse\\Tensorflow\\workspace\\images\\train\\headphones.a40bdcd4-a4c2-11ee-a693-04421a1f50dc.jpg -> Annotation:C:/Users/Emir/Desktop/ObjectDetectionv2/TFODCourse/Tensorflow/workspace/images/train\\headphones.a40bdcd4-a4c2-11ee-a693-04421a1f50dc.xml\n",
      "Image:C:\\Users\\Emir\\Desktop\\ObjectDetectionv2\\TFODCourse\\Tensorflow\\workspace\\images\\train\\headphones.a068620e-a4c2-11ee-be5e-04421a1f50dc.jpg -> Annotation:C:/Users/Emir/Desktop/ObjectDetectionv2/TFODCourse/Tensorflow/workspace/images/train\\headphones.a068620e-a4c2-11ee-be5e-04421a1f50dc.xml\n",
      "Image:C:\\Users\\Emir\\Desktop\\ObjectDetectionv2\\TFODCourse\\Tensorflow\\workspace\\images\\train\\keyboard.a8ff090a-a4c2-11ee-b652-04421a1f50dc.jpg -> Annotation:C:/Users/Emir/Desktop/ObjectDetectionv2/TFODCourse/Tensorflow/workspace/images/train\\keyboard.a8ff090a-a4c2-11ee-b652-04421a1f50dc.xml\n",
      "Image:C:\\Users\\Emir\\Desktop\\ObjectDetectionv2\\TFODCourse\\Tensorflow\\workspace\\images\\train\\keyboard.aa34c3cf-a4c2-11ee-8c07-04421a1f50dc.jpg -> Annotation:C:/Users/Emir/Desktop/ObjectDetectionv2/TFODCourse/Tensorflow/workspace/images/train\\keyboard.aa34c3cf-a4c2-11ee-8c07-04421a1f50dc.xml\n",
      "Image:C:\\Users\\Emir\\Desktop\\ObjectDetectionv2\\TFODCourse\\Tensorflow\\workspace\\images\\train\\keyboard.add88cca-a4c2-11ee-a0e8-04421a1f50dc.jpg -> Annotation:C:/Users/Emir/Desktop/ObjectDetectionv2/TFODCourse/Tensorflow/workspace/images/train\\keyboard.add88cca-a4c2-11ee-a0e8-04421a1f50dc.xml\n",
      "Image:C:\\Users\\Emir\\Desktop\\ObjectDetectionv2\\TFODCourse\\Tensorflow\\workspace\\images\\train\\mouse.b2cbb8fe-a4c2-11ee-b5f6-04421a1f50dc.jpg -> Annotation:C:/Users/Emir/Desktop/ObjectDetectionv2/TFODCourse/Tensorflow/workspace/images/train\\mouse.b2cbb8fe-a4c2-11ee-b5f6-04421a1f50dc.xml\n",
      "Image:C:\\Users\\Emir\\Desktop\\ObjectDetectionv2\\TFODCourse\\Tensorflow\\workspace\\images\\train\\mouse.b7a4a058-a4c2-11ee-8332-04421a1f50dc.jpg -> Annotation:C:/Users/Emir/Desktop/ObjectDetectionv2/TFODCourse/Tensorflow/workspace/images/train\\mouse.b7a4a058-a4c2-11ee-8332-04421a1f50dc.xml\n",
      "Image:C:\\Users\\Emir\\Desktop\\ObjectDetectionv2\\TFODCourse\\Tensorflow\\workspace\\images\\train\\mouse.b66dd3e4-a4c2-11ee-8ec2-04421a1f50dc.jpg -> Annotation:C:/Users/Emir/Desktop/ObjectDetectionv2/TFODCourse/Tensorflow/workspace/images/train\\mouse.b66dd3e4-a4c2-11ee-8ec2-04421a1f50dc.xml\n",
      "Image:C:\\Users\\Emir\\Desktop\\ObjectDetectionv2\\TFODCourse\\Tensorflow\\workspace\\images\\train\\mouse.b537076f-a4c2-11ee-940f-04421a1f50dc.jpg -> Annotation:C:/Users/Emir/Desktop/ObjectDetectionv2/TFODCourse/Tensorflow/workspace/images/train\\mouse.b537076f-a4c2-11ee-940f-04421a1f50dc.xml\n",
      "Image:C:\\Users\\Emir\\Desktop\\ObjectDetectionv2\\TFODCourse\\Tensorflow\\workspace\\images\\train\\mouse.b4012593-a4c2-11ee-8ecd-04421a1f50dc.jpg -> Annotation:C:/Users/Emir/Desktop/ObjectDetectionv2/TFODCourse/Tensorflow/workspace/images/train\\mouse.b4012593-a4c2-11ee-8ecd-04421a1f50dc.xml\n",
      "Image:C:\\Users\\Emir\\Desktop\\ObjectDetectionv2\\TFODCourse\\Tensorflow\\workspace\\images\\train\\WIN_20231227_17_22_00_Pro.jpg -> Annotation:C:/Users/Emir/Desktop/ObjectDetectionv2/TFODCourse/Tensorflow/workspace/images/train\\WIN_20231227_17_22_00_Pro.xml\n",
      "Image:C:\\Users\\Emir\\Desktop\\ObjectDetectionv2\\TFODCourse\\Tensorflow\\workspace\\images\\train\\WIN_20231227_17_22_02_Pro.jpg -> Annotation:C:/Users/Emir/Desktop/ObjectDetectionv2/TFODCourse/Tensorflow/workspace/images/train\\WIN_20231227_17_22_02_Pro.xml\n",
      "Image:C:\\Users\\Emir\\Desktop\\ObjectDetectionv2\\TFODCourse\\Tensorflow\\workspace\\images\\train\\WIN_20231227_17_22_03_Pro.jpg -> Annotation:C:/Users/Emir/Desktop/ObjectDetectionv2/TFODCourse/Tensorflow/workspace/images/train\\WIN_20231227_17_22_03_Pro.xml\n",
      "Image:C:\\Users\\Emir\\Desktop\\ObjectDetectionv2\\TFODCourse\\Tensorflow\\workspace\\images\\train\\WIN_20231227_17_22_05_Pro.jpg -> Annotation:C:/Users/Emir/Desktop/ObjectDetectionv2/TFODCourse/Tensorflow/workspace/images/train\\WIN_20231227_17_22_05_Pro.xml\n",
      "Image:C:\\Users\\Emir\\Desktop\\ObjectDetectionv2\\TFODCourse\\Tensorflow\\workspace\\images\\train\\WIN_20231227_17_22_06_Pro.jpg -> Annotation:C:/Users/Emir/Desktop/ObjectDetectionv2/TFODCourse/Tensorflow/workspace/images/train\\WIN_20231227_17_22_06_Pro.xml\n",
      "Image:C:\\Users\\Emir\\Desktop\\ObjectDetectionv2\\TFODCourse\\Tensorflow\\workspace\\images\\train\\WIN_20231227_17_22_09_Pro.jpg -> Annotation:C:/Users/Emir/Desktop/ObjectDetectionv2/TFODCourse/Tensorflow/workspace/images/train\\WIN_20231227_17_22_09_Pro.xml\n",
      "Image:C:\\Users\\Emir\\Desktop\\ObjectDetectionv2\\TFODCourse\\Tensorflow\\workspace\\images\\train\\WIN_20231227_17_22_10_Pro.jpg -> Annotation:C:/Users/Emir/Desktop/ObjectDetectionv2/TFODCourse/Tensorflow/workspace/images/train\\WIN_20231227_17_22_10_Pro.xml\n",
      "Image:C:\\Users\\Emir\\Desktop\\ObjectDetectionv2\\TFODCourse\\Tensorflow\\workspace\\images\\train\\WIN_20231227_17_22_11_Pro .jpg -> Annotation:C:/Users/Emir/Desktop/ObjectDetectionv2/TFODCourse/Tensorflow/workspace/images/train\\WIN_20231227_17_22_11_Pro .xml\n",
      "Image:C:\\Users\\Emir\\Desktop\\ObjectDetectionv2\\TFODCourse\\Tensorflow\\workspace\\images\\train\\WIN_20231227_17_22_12_Pro.jpg -> Annotation:C:/Users/Emir/Desktop/ObjectDetectionv2/TFODCourse/Tensorflow/workspace/images/train\\WIN_20231227_17_22_12_Pro.xml\n",
      "Image:C:\\Users\\Emir\\Desktop\\ObjectDetectionv2\\TFODCourse\\Tensorflow\\workspace\\images\\train\\WIN_20231227_17_22_13_Pro.jpg -> Annotation:C:/Users/Emir/Desktop/ObjectDetectionv2/TFODCourse/Tensorflow/workspace/images/train\\WIN_20231227_17_22_13_Pro.xml\n",
      "Image:C:\\Users\\Emir\\Desktop\\ObjectDetectionv2\\TFODCourse\\Tensorflow\\workspace\\images\\train\\WIN_20231227_17_22_14_Pro.jpg -> Annotation:C:/Users/Emir/Desktop/ObjectDetectionv2/TFODCourse/Tensorflow/workspace/images/train\\WIN_20231227_17_22_14_Pro.xml\n",
      "Image:C:\\Users\\Emir\\Desktop\\ObjectDetectionv2\\TFODCourse\\Tensorflow\\workspace\\images\\train\\WIN_20231227_17_22_15_Pro.jpg -> Annotation:C:/Users/Emir/Desktop/ObjectDetectionv2/TFODCourse/Tensorflow/workspace/images/train\\WIN_20231227_17_22_15_Pro.xml\n",
      "Image:C:\\Users\\Emir\\Desktop\\ObjectDetectionv2\\TFODCourse\\Tensorflow\\workspace\\images\\train\\WIN_20231227_17_22_15_Pro.jpg -> Annotation:C:/Users/Emir/Desktop/ObjectDetectionv2/TFODCourse/Tensorflow/workspace/images/train\\WIN_20231227_17_22_15_Pro.xml\n",
      "Image:C:\\Users\\Emir\\Desktop\\ObjectDetectionv2\\TFODCourse\\Tensorflow\\workspace\\images\\train\\WIN_20231227_17_22_14_Pro.jpg -> Annotation:C:/Users/Emir/Desktop/ObjectDetectionv2/TFODCourse/Tensorflow/workspace/images/train\\WIN_20231227_17_22_14_Pro.xml\n",
      "Image:C:\\Users\\Emir\\Desktop\\ObjectDetectionv2\\TFODCourse\\Tensorflow\\workspace\\images\\train\\WIN_20231227_17_22_13_Pro.jpg -> Annotation:C:/Users/Emir/Desktop/ObjectDetectionv2/TFODCourse/Tensorflow/workspace/images/train\\WIN_20231227_17_22_13_Pro.xml\n",
      "Image:C:\\Users\\Emir\\Desktop\\ObjectDetectionv2\\TFODCourse\\Tensorflow\\workspace\\images\\train\\WIN_20231227_17_22_12_Pro.jpg -> Annotation:C:/Users/Emir/Desktop/ObjectDetectionv2/TFODCourse/Tensorflow/workspace/images/train\\WIN_20231227_17_22_12_Pro.xml\n",
      "Image:C:\\Users\\Emir\\Desktop\\ObjectDetectionv2\\TFODCourse\\Tensorflow\\workspace\\images\\train\\WIN_20231227_17_22_11_Pro .jpg -> Annotation:C:/Users/Emir/Desktop/ObjectDetectionv2/TFODCourse/Tensorflow/workspace/images/train\\WIN_20231227_17_22_11_Pro .xml\n",
      "Image:C:\\Users\\Emir\\Desktop\\ObjectDetectionv2\\TFODCourse\\Tensorflow\\workspace\\images\\train\\WIN_20231227_17_22_10_Pro.jpg -> Annotation:C:/Users/Emir/Desktop/ObjectDetectionv2/TFODCourse/Tensorflow/workspace/images/train\\WIN_20231227_17_22_10_Pro.xml\n",
      "Image:C:\\Users\\Emir\\Desktop\\ObjectDetectionv2\\TFODCourse\\Tensorflow\\workspace\\images\\train\\WIN_20231227_17_22_09_Pro.jpg -> Annotation:C:/Users/Emir/Desktop/ObjectDetectionv2/TFODCourse/Tensorflow/workspace/images/train\\WIN_20231227_17_22_09_Pro.xml\n",
      "Image:C:\\Users\\Emir\\Desktop\\ObjectDetectionv2\\TFODCourse\\Tensorflow\\workspace\\images\\train\\WIN_20231227_17_22_06_Pro.jpg -> Annotation:C:/Users/Emir/Desktop/ObjectDetectionv2/TFODCourse/Tensorflow/workspace/images/train\\WIN_20231227_17_22_06_Pro.xml\n",
      "Image:C:\\Users\\Emir\\Desktop\\ObjectDetectionv2\\TFODCourse\\Tensorflow\\workspace\\images\\train\\WIN_20231227_17_22_05_Pro.jpg -> Annotation:C:/Users/Emir/Desktop/ObjectDetectionv2/TFODCourse/Tensorflow/workspace/images/train\\WIN_20231227_17_22_05_Pro.xml\n",
      "Image:C:\\Users\\Emir\\Desktop\\ObjectDetectionv2\\TFODCourse\\Tensorflow\\workspace\\images\\train\\WIN_20231227_17_22_03_Pro.jpg -> Annotation:C:/Users/Emir/Desktop/ObjectDetectionv2/TFODCourse/Tensorflow/workspace/images/train\\WIN_20231227_17_22_03_Pro.xml\n",
      "Image:C:\\Users\\Emir\\Desktop\\ObjectDetectionv2\\TFODCourse\\Tensorflow\\workspace\\images\\train\\WIN_20231227_17_22_02_Pro.jpg -> Annotation:C:/Users/Emir/Desktop/ObjectDetectionv2/TFODCourse/Tensorflow/workspace/images/train\\WIN_20231227_17_22_02_Pro.xml\n",
      "Image:C:\\Users\\Emir\\Desktop\\ObjectDetectionv2\\TFODCourse\\Tensorflow\\workspace\\images\\train\\WIN_20231227_17_22_00_Pro.jpg -> Annotation:C:/Users/Emir/Desktop/ObjectDetectionv2/TFODCourse/Tensorflow/workspace/images/train\\WIN_20231227_17_22_00_Pro.xml\n",
      "Image:C:\\Users\\Emir\\Desktop\\ObjectDetectionv2\\TFODCourse\\Tensorflow\\workspace\\images\\train\\WIN_20231227_17_22_26_Pro.jpg -> Annotation:C:/Users/Emir/Desktop/ObjectDetectionv2/TFODCourse/Tensorflow/workspace/images/train\\WIN_20231227_17_22_26_Pro.xml\n",
      "Image:C:\\Users\\Emir\\Desktop\\ObjectDetectionv2\\TFODCourse\\Tensorflow\\workspace\\images\\train\\WIN_20231227_17_22_34_Pro.jpg -> Annotation:C:/Users/Emir/Desktop/ObjectDetectionv2/TFODCourse/Tensorflow/workspace/images/train\\WIN_20231227_17_22_34_Pro.xml\n",
      "Image:C:\\Users\\Emir\\Desktop\\ObjectDetectionv2\\TFODCourse\\Tensorflow\\workspace\\images\\train\\WIN_20231227_17_22_36_Pro.jpg -> Annotation:C:/Users/Emir/Desktop/ObjectDetectionv2/TFODCourse/Tensorflow/workspace/images/train\\WIN_20231227_17_22_36_Pro.xml\n",
      "Image:C:\\Users\\Emir\\Desktop\\ObjectDetectionv2\\TFODCourse\\Tensorflow\\workspace\\images\\train\\WIN_20231227_17_22_37_Pro.jpg -> Annotation:C:/Users/Emir/Desktop/ObjectDetectionv2/TFODCourse/Tensorflow/workspace/images/train\\WIN_20231227_17_22_37_Pro.xml\n",
      "Image:C:\\Users\\Emir\\Desktop\\ObjectDetectionv2\\TFODCourse\\Tensorflow\\workspace\\images\\train\\WIN_20231227_17_22_38_Pro.jpg -> Annotation:C:/Users/Emir/Desktop/ObjectDetectionv2/TFODCourse/Tensorflow/workspace/images/train\\WIN_20231227_17_22_38_Pro.xml\n",
      "Image:C:\\Users\\Emir\\Desktop\\ObjectDetectionv2\\TFODCourse\\Tensorflow\\workspace\\images\\train\\WIN_20231227_17_22_39_Pro.jpg -> Annotation:C:/Users/Emir/Desktop/ObjectDetectionv2/TFODCourse/Tensorflow/workspace/images/train\\WIN_20231227_17_22_39_Pro.xml\n",
      "Image:C:\\Users\\Emir\\Desktop\\ObjectDetectionv2\\TFODCourse\\Tensorflow\\workspace\\images\\train\\WIN_20231227_17_22_40_Pro 4.jpg -> Annotation:C:/Users/Emir/Desktop/ObjectDetectionv2/TFODCourse/Tensorflow/workspace/images/train\\WIN_20231227_17_22_40_Pro 4.xml\n",
      "Image:C:\\Users\\Emir\\Desktop\\ObjectDetectionv2\\TFODCourse\\Tensorflow\\workspace\\images\\train\\WIN_20231227_17_22_40_Pro.jpg -> Annotation:C:/Users/Emir/Desktop/ObjectDetectionv2/TFODCourse/Tensorflow/workspace/images/train\\WIN_20231227_17_22_40_Pro.xml\n",
      "Image:C:\\Users\\Emir\\Desktop\\ObjectDetectionv2\\TFODCourse\\Tensorflow\\workspace\\images\\train\\WIN_20231227_17_22_41_Pro.jpg -> Annotation:C:/Users/Emir/Desktop/ObjectDetectionv2/TFODCourse/Tensorflow/workspace/images/train\\WIN_20231227_17_22_41_Pro.xml\n",
      "Image:C:\\Users\\Emir\\Desktop\\ObjectDetectionv2\\TFODCourse\\Tensorflow\\workspace\\images\\train\\WIN_20231227_17_22_42_Pro.jpg -> Annotation:C:/Users/Emir/Desktop/ObjectDetectionv2/TFODCourse/Tensorflow/workspace/images/train\\WIN_20231227_17_22_42_Pro.xml\n",
      "Image:C:\\Users\\Emir\\Desktop\\ObjectDetectionv2\\TFODCourse\\Tensorflow\\workspace\\images\\train\\WIN_20231227_17_22_43_Pro (2).jpg -> Annotation:C:/Users/Emir/Desktop/ObjectDetectionv2/TFODCourse/Tensorflow/workspace/images/train\\WIN_20231227_17_22_43_Pro (2).xml\n",
      "Image:C:\\Users\\Emir\\Desktop\\ObjectDetectionv2\\TFODCourse\\Tensorflow\\workspace\\images\\train\\WIN_20231227_17_22_43_Pro.jpg -> Annotation:C:/Users/Emir/Desktop/ObjectDetectionv2/TFODCourse/Tensorflow/workspace/images/train\\WIN_20231227_17_22_43_Pro.xml\n",
      "Image:C:\\Users\\Emir\\Desktop\\ObjectDetectionv2\\TFODCourse\\Tensorflow\\workspace\\images\\train\\WIN_20231227_17_22_45_Pro.jpg -> Annotation:C:/Users/Emir/Desktop/ObjectDetectionv2/TFODCourse/Tensorflow/workspace/images/train\\WIN_20231227_17_22_45_Pro.xml\n",
      "Image:C:\\Users\\Emir\\Desktop\\ObjectDetectionv2\\TFODCourse\\Tensorflow\\workspace\\images\\train\\WIN_20231227_17_22_46_Pro (2).jpg -> Annotation:C:/Users/Emir/Desktop/ObjectDetectionv2/TFODCourse/Tensorflow/workspace/images/train\\WIN_20231227_17_22_46_Pro (2).xml\n",
      "Image:C:\\Users\\Emir\\Desktop\\ObjectDetectionv2\\TFODCourse\\Tensorflow\\workspace\\images\\train\\WIN_20231227_17_22_46_Pro.jpg -> Annotation:C:/Users/Emir/Desktop/ObjectDetectionv2/TFODCourse/Tensorflow/workspace/images/train\\WIN_20231227_17_22_46_Pro.xml\n",
      "Image:C:\\Users\\Emir\\Desktop\\ObjectDetectionv2\\TFODCourse\\Tensorflow\\workspace\\images\\train\\WIN_20231227_17_22_47_Pro.jpg -> Annotation:C:/Users/Emir/Desktop/ObjectDetectionv2/TFODCourse/Tensorflow/workspace/images/train\\WIN_20231227_17_22_47_Pro.xml\n",
      "Cancel creation.\n",
      "Image:C:\\Users\\Emir\\Desktop\\ObjectDetectionv2\\TFODCourse\\Tensorflow\\workspace\\images\\train\\WIN_20231227_17_22_49_Pro.jpg -> Annotation:C:/Users/Emir/Desktop/ObjectDetectionv2/TFODCourse/Tensorflow/workspace/images/train\\WIN_20231227_17_22_49_Pro.xml\n",
      "Image:C:\\Users\\Emir\\Desktop\\ObjectDetectionv2\\TFODCourse\\Tensorflow\\workspace\\images\\train\\WIN_20231227_17_22_50_Pro.jpg -> Annotation:C:/Users/Emir/Desktop/ObjectDetectionv2/TFODCourse/Tensorflow/workspace/images/train\\WIN_20231227_17_22_50_Pro.xml\n",
      "Image:C:\\Users\\Emir\\Desktop\\ObjectDetectionv2\\TFODCourse\\Tensorflow\\workspace\\images\\train\\WIN_20231227_17_22_51_Pro (2).jpg -> Annotation:C:/Users/Emir/Desktop/ObjectDetectionv2/TFODCourse/Tensorflow/workspace/images/train\\WIN_20231227_17_22_51_Pro (2).xml\n",
      "Image:C:\\Users\\Emir\\Desktop\\ObjectDetectionv2\\TFODCourse\\Tensorflow\\workspace\\images\\train\\WIN_20231227_17_22_51_Pro.jpg -> Annotation:C:/Users/Emir/Desktop/ObjectDetectionv2/TFODCourse/Tensorflow/workspace/images/train\\WIN_20231227_17_22_51_Pro.xml\n",
      "Image:C:\\Users\\Emir\\Desktop\\ObjectDetectionv2\\TFODCourse\\Tensorflow\\workspace\\images\\train\\WIN_20231227_17_23_06_Pro.jpg -> Annotation:C:/Users/Emir/Desktop/ObjectDetectionv2/TFODCourse/Tensorflow/workspace/images/train\\WIN_20231227_17_23_06_Pro.xml\n",
      "Image:C:\\Users\\Emir\\Desktop\\ObjectDetectionv2\\TFODCourse\\Tensorflow\\workspace\\images\\train\\WIN_20231227_17_23_07_Pro.jpg -> Annotation:C:/Users/Emir/Desktop/ObjectDetectionv2/TFODCourse/Tensorflow/workspace/images/train\\WIN_20231227_17_23_07_Pro.xml\n",
      "Image:C:\\Users\\Emir\\Desktop\\ObjectDetectionv2\\TFODCourse\\Tensorflow\\workspace\\images\\train\\WIN_20231227_17_23_08_Pro.jpg -> Annotation:C:/Users/Emir/Desktop/ObjectDetectionv2/TFODCourse/Tensorflow/workspace/images/train\\WIN_20231227_17_23_08_Pro.xml\n",
      "Image:C:\\Users\\Emir\\Desktop\\ObjectDetectionv2\\TFODCourse\\Tensorflow\\workspace\\images\\train\\WIN_20231227_17_23_09_Pro (2).jpg -> Annotation:C:/Users/Emir/Desktop/ObjectDetectionv2/TFODCourse/Tensorflow/workspace/images/train\\WIN_20231227_17_23_09_Pro (2).xml\n",
      "Image:C:\\Users\\Emir\\Desktop\\ObjectDetectionv2\\TFODCourse\\Tensorflow\\workspace\\images\\train\\WIN_20231227_17_23_09_Pro.jpg -> Annotation:C:/Users/Emir/Desktop/ObjectDetectionv2/TFODCourse/Tensorflow/workspace/images/train\\WIN_20231227_17_23_09_Pro.xml\n",
      "Image:C:\\Users\\Emir\\Desktop\\ObjectDetectionv2\\TFODCourse\\Tensorflow\\workspace\\images\\train\\WIN_20231227_17_23_10_Pro.jpg -> Annotation:C:/Users/Emir/Desktop/ObjectDetectionv2/TFODCourse/Tensorflow/workspace/images/train\\WIN_20231227_17_23_10_Pro.xml\n",
      "Image:C:\\Users\\Emir\\Desktop\\ObjectDetectionv2\\TFODCourse\\Tensorflow\\workspace\\images\\train\\WIN_20231227_17_23_11_Pro (2).jpg -> Annotation:C:/Users/Emir/Desktop/ObjectDetectionv2/TFODCourse/Tensorflow/workspace/images/train\\WIN_20231227_17_23_11_Pro (2).xml\n",
      "Image:C:\\Users\\Emir\\Desktop\\ObjectDetectionv2\\TFODCourse\\Tensorflow\\workspace\\images\\train\\WIN_20231227_17_23_11_Pro.jpg -> Annotation:C:/Users/Emir/Desktop/ObjectDetectionv2/TFODCourse/Tensorflow/workspace/images/train\\WIN_20231227_17_23_11_Pro.xml\n",
      "Image:C:\\Users\\Emir\\Desktop\\ObjectDetectionv2\\TFODCourse\\Tensorflow\\workspace\\images\\train\\WIN_20231227_17_23_12_Pro (2).jpg -> Annotation:C:/Users/Emir/Desktop/ObjectDetectionv2/TFODCourse/Tensorflow/workspace/images/train\\WIN_20231227_17_23_12_Pro (2).xml\n",
      "Image:C:\\Users\\Emir\\Desktop\\ObjectDetectionv2\\TFODCourse\\Tensorflow\\workspace\\images\\train\\WIN_20231227_17_23_12_Pro.jpg -> Annotation:C:/Users/Emir/Desktop/ObjectDetectionv2/TFODCourse/Tensorflow/workspace/images/train\\WIN_20231227_17_23_12_Pro.xml\n",
      "Image:C:\\Users\\Emir\\Desktop\\ObjectDetectionv2\\TFODCourse\\Tensorflow\\workspace\\images\\train\\WIN_20231227_17_23_13_Pro.jpg -> Annotation:C:/Users/Emir/Desktop/ObjectDetectionv2/TFODCourse/Tensorflow/workspace/images/train\\WIN_20231227_17_23_13_Pro.xml\n",
      "Image:C:\\Users\\Emir\\Desktop\\ObjectDetectionv2\\TFODCourse\\Tensorflow\\workspace\\images\\train\\WIN_20231227_17_23_14_Pro (2).jpg -> Annotation:C:/Users/Emir/Desktop/ObjectDetectionv2/TFODCourse/Tensorflow/workspace/images/train\\WIN_20231227_17_23_14_Pro (2).xml\n",
      "Image:C:\\Users\\Emir\\Desktop\\ObjectDetectionv2\\TFODCourse\\Tensorflow\\workspace\\images\\train\\WIN_20231227_17_23_14_Pro.jpg -> Annotation:C:/Users/Emir/Desktop/ObjectDetectionv2/TFODCourse/Tensorflow/workspace/images/train\\WIN_20231227_17_23_14_Pro.xml\n",
      "Image:C:\\Users\\Emir\\Desktop\\ObjectDetectionv2\\TFODCourse\\Tensorflow\\workspace\\images\\train\\WIN_20231227_17_23_15_Pro.jpg -> Annotation:C:/Users/Emir/Desktop/ObjectDetectionv2/TFODCourse/Tensorflow/workspace/images/train\\WIN_20231227_17_23_15_Pro.xml\n",
      "Image:C:\\Users\\Emir\\Desktop\\ObjectDetectionv2\\TFODCourse\\Tensorflow\\workspace\\images\\train\\WIN_20231227_17_23_16_Pro.jpg -> Annotation:C:/Users/Emir/Desktop/ObjectDetectionv2/TFODCourse/Tensorflow/workspace/images/train\\WIN_20231227_17_23_16_Pro.xml\n",
      "Image:C:\\Users\\Emir\\Desktop\\ObjectDetectionv2\\TFODCourse\\Tensorflow\\workspace\\images\\train\\WIN_20231227_17_23_18_Pro.jpg -> Annotation:C:/Users/Emir/Desktop/ObjectDetectionv2/TFODCourse/Tensorflow/workspace/images/train\\WIN_20231227_17_23_18_Pro.xml\n",
      "Image:C:\\Users\\Emir\\Desktop\\ObjectDetectionv2\\TFODCourse\\Tensorflow\\workspace\\images\\train\\WIN_20231227_17_23_19_Pro.jpg -> Annotation:C:/Users/Emir/Desktop/ObjectDetectionv2/TFODCourse/Tensorflow/workspace/images/train\\WIN_20231227_17_23_19_Pro.xml\n",
      "Image:C:\\Users\\Emir\\Desktop\\ObjectDetectionv2\\TFODCourse\\Tensorflow\\workspace\\images\\train\\WIN_20231227_17_23_20_Pro.jpg -> Annotation:C:/Users/Emir/Desktop/ObjectDetectionv2/TFODCourse/Tensorflow/workspace/images/train\\WIN_20231227_17_23_20_Pro.xml\n",
      "Image:C:\\Users\\Emir\\Desktop\\ObjectDetectionv2\\TFODCourse\\Tensorflow\\workspace\\images\\train\\WIN_20231227_17_23_21_Pro (2).jpg -> Annotation:C:/Users/Emir/Desktop/ObjectDetectionv2/TFODCourse/Tensorflow/workspace/images/train\\WIN_20231227_17_23_21_Pro (2).xml\n",
      "Image:C:\\Users\\Emir\\Desktop\\ObjectDetectionv2\\TFODCourse\\Tensorflow\\workspace\\images\\train\\WIN_20231227_17_23_21_Pro.jpg -> Annotation:C:/Users/Emir/Desktop/ObjectDetectionv2/TFODCourse/Tensorflow/workspace/images/train\\WIN_20231227_17_23_21_Pro.xml\n",
      "Image:C:\\Users\\Emir\\Desktop\\ObjectDetectionv2\\TFODCourse\\Tensorflow\\workspace\\images\\train\\WIN_20231227_17_23_22_Pro.jpg -> Annotation:C:/Users/Emir/Desktop/ObjectDetectionv2/TFODCourse/Tensorflow/workspace/images/train\\WIN_20231227_17_23_22_Pro.xml\n",
      "Image:C:\\Users\\Emir\\Desktop\\ObjectDetectionv2\\TFODCourse\\Tensorflow\\workspace\\images\\train\\WIN_20231227_17_24_28_Pro.jpg -> Annotation:C:/Users/Emir/Desktop/ObjectDetectionv2/TFODCourse/Tensorflow/workspace/images/train\\WIN_20231227_17_24_28_Pro.xml\n",
      "Image:C:\\Users\\Emir\\Desktop\\ObjectDetectionv2\\TFODCourse\\Tensorflow\\workspace\\images\\train\\WIN_20231227_17_24_29_Pro.jpg -> Annotation:C:/Users/Emir/Desktop/ObjectDetectionv2/TFODCourse/Tensorflow/workspace/images/train\\WIN_20231227_17_24_29_Pro.xml\n",
      "Image:C:\\Users\\Emir\\Desktop\\ObjectDetectionv2\\TFODCourse\\Tensorflow\\workspace\\images\\train\\WIN_20231227_17_24_30_Pro.jpg -> Annotation:C:/Users/Emir/Desktop/ObjectDetectionv2/TFODCourse/Tensorflow/workspace/images/train\\WIN_20231227_17_24_30_Pro.xml\n",
      "Image:C:\\Users\\Emir\\Desktop\\ObjectDetectionv2\\TFODCourse\\Tensorflow\\workspace\\images\\train\\WIN_20231227_17_24_31_Pro (2).jpg -> Annotation:C:/Users/Emir/Desktop/ObjectDetectionv2/TFODCourse/Tensorflow/workspace/images/train\\WIN_20231227_17_24_31_Pro (2).xml\n",
      "Image:C:\\Users\\Emir\\Desktop\\ObjectDetectionv2\\TFODCourse\\Tensorflow\\workspace\\images\\train\\WIN_20231227_17_24_31_Pro.jpg -> Annotation:C:/Users/Emir/Desktop/ObjectDetectionv2/TFODCourse/Tensorflow/workspace/images/train\\WIN_20231227_17_24_31_Pro.xml\n",
      "Image:C:\\Users\\Emir\\Desktop\\ObjectDetectionv2\\TFODCourse\\Tensorflow\\workspace\\images\\train\\WIN_20231227_17_24_32_Pro.jpg -> Annotation:C:/Users/Emir/Desktop/ObjectDetectionv2/TFODCourse/Tensorflow/workspace/images/train\\WIN_20231227_17_24_32_Pro.xml\n",
      "Image:C:\\Users\\Emir\\Desktop\\ObjectDetectionv2\\TFODCourse\\Tensorflow\\workspace\\images\\train\\WIN_20231227_17_24_33_Pro.jpg -> Annotation:C:/Users/Emir/Desktop/ObjectDetectionv2/TFODCourse/Tensorflow/workspace/images/train\\WIN_20231227_17_24_33_Pro.xml\n",
      "Image:C:\\Users\\Emir\\Desktop\\ObjectDetectionv2\\TFODCourse\\Tensorflow\\workspace\\images\\train\\WIN_20231227_17_24_34_Pro.jpg -> Annotation:C:/Users/Emir/Desktop/ObjectDetectionv2/TFODCourse/Tensorflow/workspace/images/train\\WIN_20231227_17_24_34_Pro.xml\n",
      "Image:C:\\Users\\Emir\\Desktop\\ObjectDetectionv2\\TFODCourse\\Tensorflow\\workspace\\images\\train\\WIN_20231227_17_24_35_Pro.jpg -> Annotation:C:/Users/Emir/Desktop/ObjectDetectionv2/TFODCourse/Tensorflow/workspace/images/train\\WIN_20231227_17_24_35_Pro.xml\n",
      "Image:C:\\Users\\Emir\\Desktop\\ObjectDetectionv2\\TFODCourse\\Tensorflow\\workspace\\images\\train\\WIN_20231227_17_24_36_Pro.jpg -> Annotation:C:/Users/Emir/Desktop/ObjectDetectionv2/TFODCourse/Tensorflow/workspace/images/train\\WIN_20231227_17_24_36_Pro.xml\n",
      "Image:C:\\Users\\Emir\\Desktop\\ObjectDetectionv2\\TFODCourse\\Tensorflow\\workspace\\images\\train\\WIN_20231227_17_24_39_Pro.jpg -> Annotation:C:/Users/Emir/Desktop/ObjectDetectionv2/TFODCourse/Tensorflow/workspace/images/train\\WIN_20231227_17_24_39_Pro.xml\n",
      "Image:C:\\Users\\Emir\\Desktop\\ObjectDetectionv2\\TFODCourse\\Tensorflow\\workspace\\images\\train\\WIN_20231227_17_24_40_Pro (2).jpg -> Annotation:C:/Users/Emir/Desktop/ObjectDetectionv2/TFODCourse/Tensorflow/workspace/images/train\\WIN_20231227_17_24_40_Pro (2).xml\n",
      "Image:C:\\Users\\Emir\\Desktop\\ObjectDetectionv2\\TFODCourse\\Tensorflow\\workspace\\images\\train\\WIN_20231227_17_24_40_Pro.jpg -> Annotation:C:/Users/Emir/Desktop/ObjectDetectionv2/TFODCourse/Tensorflow/workspace/images/train\\WIN_20231227_17_24_40_Pro.xml\n",
      "Image:C:\\Users\\Emir\\Desktop\\ObjectDetectionv2\\TFODCourse\\Tensorflow\\workspace\\images\\train\\WIN_20231227_17_24_41_Pro.jpg -> Annotation:C:/Users/Emir/Desktop/ObjectDetectionv2/TFODCourse/Tensorflow/workspace/images/train\\WIN_20231227_17_24_41_Pro.xml\n",
      "Image:C:\\Users\\Emir\\Desktop\\ObjectDetectionv2\\TFODCourse\\Tensorflow\\workspace\\images\\train\\WIN_20231227_17_24_42_Pro.jpg -> Annotation:C:/Users/Emir/Desktop/ObjectDetectionv2/TFODCourse/Tensorflow/workspace/images/train\\WIN_20231227_17_24_42_Pro.xml\n",
      "Image:C:\\Users\\Emir\\Desktop\\ObjectDetectionv2\\TFODCourse\\Tensorflow\\workspace\\images\\train\\WIN_20231227_17_24_43_Pro.jpg -> Annotation:C:/Users/Emir/Desktop/ObjectDetectionv2/TFODCourse/Tensorflow/workspace/images/train\\WIN_20231227_17_24_43_Pro.xml\n",
      "Image:C:\\Users\\Emir\\Desktop\\ObjectDetectionv2\\TFODCourse\\Tensorflow\\workspace\\images\\train\\WIN_20231227_17_24_44_Pro.jpg -> Annotation:C:/Users/Emir/Desktop/ObjectDetectionv2/TFODCourse/Tensorflow/workspace/images/train\\WIN_20231227_17_24_44_Pro.xml\n",
      "Image:C:\\Users\\Emir\\Desktop\\ObjectDetectionv2\\TFODCourse\\Tensorflow\\workspace\\images\\train\\WIN_20231227_17_24_45_Pro (2).jpg -> Annotation:C:/Users/Emir/Desktop/ObjectDetectionv2/TFODCourse/Tensorflow/workspace/images/train\\WIN_20231227_17_24_45_Pro (2).xml\n",
      "Image:C:\\Users\\Emir\\Desktop\\ObjectDetectionv2\\TFODCourse\\Tensorflow\\workspace\\images\\train\\WIN_20231227_17_24_45_Pro.jpg -> Annotation:C:/Users/Emir/Desktop/ObjectDetectionv2/TFODCourse/Tensorflow/workspace/images/train\\WIN_20231227_17_24_45_Pro.xml\n",
      "Image:C:\\Users\\Emir\\Desktop\\ObjectDetectionv2\\TFODCourse\\Tensorflow\\workspace\\images\\train\\WIN_20231227_17_26_01_Pro.jpg -> Annotation:C:/Users/Emir/Desktop/ObjectDetectionv2/TFODCourse/Tensorflow/workspace/images/train\\WIN_20231227_17_26_01_Pro.xml\n",
      "Image:C:\\Users\\Emir\\Desktop\\ObjectDetectionv2\\TFODCourse\\Tensorflow\\workspace\\images\\train\\WIN_20231227_17_26_02_Pro.jpg -> Annotation:C:/Users/Emir/Desktop/ObjectDetectionv2/TFODCourse/Tensorflow/workspace/images/train\\WIN_20231227_17_26_02_Pro.xml\n",
      "Image:C:\\Users\\Emir\\Desktop\\ObjectDetectionv2\\TFODCourse\\Tensorflow\\workspace\\images\\train\\WIN_20231227_17_26_03_Pro.jpg -> Annotation:C:/Users/Emir/Desktop/ObjectDetectionv2/TFODCourse/Tensorflow/workspace/images/train\\WIN_20231227_17_26_03_Pro.xml\n",
      "Image:C:\\Users\\Emir\\Desktop\\ObjectDetectionv2\\TFODCourse\\Tensorflow\\workspace\\images\\train\\WIN_20231227_17_26_05_Pro.jpg -> Annotation:C:/Users/Emir/Desktop/ObjectDetectionv2/TFODCourse/Tensorflow/workspace/images/train\\WIN_20231227_17_26_05_Pro.xml\n",
      "Image:C:\\Users\\Emir\\Desktop\\ObjectDetectionv2\\TFODCourse\\Tensorflow\\workspace\\images\\train\\WIN_20231227_17_26_06_Pro.jpg -> Annotation:C:/Users/Emir/Desktop/ObjectDetectionv2/TFODCourse/Tensorflow/workspace/images/train\\WIN_20231227_17_26_06_Pro.xml\n",
      "Image:C:\\Users\\Emir\\Desktop\\ObjectDetectionv2\\TFODCourse\\Tensorflow\\workspace\\images\\train\\WIN_20231227_17_26_07_Pro.jpg -> Annotation:C:/Users/Emir/Desktop/ObjectDetectionv2/TFODCourse/Tensorflow/workspace/images/train\\WIN_20231227_17_26_07_Pro.xml\n",
      "Image:C:\\Users\\Emir\\Desktop\\ObjectDetectionv2\\TFODCourse\\Tensorflow\\workspace\\images\\train\\WIN_20231227_17_26_15_Pro.jpg -> Annotation:C:/Users/Emir/Desktop/ObjectDetectionv2/TFODCourse/Tensorflow/workspace/images/train\\WIN_20231227_17_26_15_Pro.xml\n",
      "Image:C:\\Users\\Emir\\Desktop\\ObjectDetectionv2\\TFODCourse\\Tensorflow\\workspace\\images\\train\\WIN_20231227_17_26_16_Pro.jpg -> Annotation:C:/Users/Emir/Desktop/ObjectDetectionv2/TFODCourse/Tensorflow/workspace/images/train\\WIN_20231227_17_26_16_Pro.xml\n",
      "Image:C:\\Users\\Emir\\Desktop\\ObjectDetectionv2\\TFODCourse\\Tensorflow\\workspace\\images\\train\\WIN_20231227_17_26_17_Pro.jpg -> Annotation:C:/Users/Emir/Desktop/ObjectDetectionv2/TFODCourse/Tensorflow/workspace/images/train\\WIN_20231227_17_26_17_Pro.xml\n",
      "Image:C:\\Users\\Emir\\Desktop\\ObjectDetectionv2\\TFODCourse\\Tensorflow\\workspace\\images\\train\\WIN_20231227_17_26_18_Pro.jpg -> Annotation:C:/Users/Emir/Desktop/ObjectDetectionv2/TFODCourse/Tensorflow/workspace/images/train\\WIN_20231227_17_26_18_Pro.xml\n",
      "Image:C:\\Users\\Emir\\Desktop\\ObjectDetectionv2\\TFODCourse\\Tensorflow\\workspace\\images\\train\\WIN_20231227_17_26_19_Pro (2).jpg -> Annotation:C:/Users/Emir/Desktop/ObjectDetectionv2/TFODCourse/Tensorflow/workspace/images/train\\WIN_20231227_17_26_19_Pro (2).xml\n",
      "Image:C:\\Users\\Emir\\Desktop\\ObjectDetectionv2\\TFODCourse\\Tensorflow\\workspace\\images\\train\\WIN_20231227_17_26_19_Pro.jpg -> Annotation:C:/Users/Emir/Desktop/ObjectDetectionv2/TFODCourse/Tensorflow/workspace/images/train\\WIN_20231227_17_26_19_Pro.xml\n",
      "Image:C:\\Users\\Emir\\Desktop\\ObjectDetectionv2\\TFODCourse\\Tensorflow\\workspace\\images\\train\\WIN_20231227_17_26_20_Pro (2).jpg -> Annotation:C:/Users/Emir/Desktop/ObjectDetectionv2/TFODCourse/Tensorflow/workspace/images/train\\WIN_20231227_17_26_20_Pro (2).xml\n",
      "Image:C:\\Users\\Emir\\Desktop\\ObjectDetectionv2\\TFODCourse\\Tensorflow\\workspace\\images\\train\\WIN_20231227_17_26_20_Pro.jpg -> Annotation:C:/Users/Emir/Desktop/ObjectDetectionv2/TFODCourse/Tensorflow/workspace/images/train\\WIN_20231227_17_26_20_Pro.xml\n",
      "Image:C:\\Users\\Emir\\Desktop\\ObjectDetectionv2\\TFODCourse\\Tensorflow\\workspace\\images\\train\\WIN_20231227_17_26_21_Pro (2).jpg -> Annotation:C:/Users/Emir/Desktop/ObjectDetectionv2/TFODCourse/Tensorflow/workspace/images/train\\WIN_20231227_17_26_21_Pro (2).xml\n",
      "Image:C:\\Users\\Emir\\Desktop\\ObjectDetectionv2\\TFODCourse\\Tensorflow\\workspace\\images\\train\\WIN_20231227_17_26_21_Pro.jpg -> Annotation:C:/Users/Emir/Desktop/ObjectDetectionv2/TFODCourse/Tensorflow/workspace/images/train\\WIN_20231227_17_26_21_Pro.xml\n",
      "Image:C:\\Users\\Emir\\Desktop\\ObjectDetectionv2\\TFODCourse\\Tensorflow\\workspace\\images\\train\\WIN_20231227_17_26_22_Pro (2).jpg -> Annotation:C:/Users/Emir/Desktop/ObjectDetectionv2/TFODCourse/Tensorflow/workspace/images/train\\WIN_20231227_17_26_22_Pro (2).xml\n",
      "Image:C:\\Users\\Emir\\Desktop\\ObjectDetectionv2\\TFODCourse\\Tensorflow\\workspace\\images\\train\\WIN_20231227_17_26_22_Pro.jpg -> Annotation:C:/Users/Emir/Desktop/ObjectDetectionv2/TFODCourse/Tensorflow/workspace/images/train\\WIN_20231227_17_26_22_Pro.xml\n",
      "Image:C:\\Users\\Emir\\Desktop\\ObjectDetectionv2\\TFODCourse\\Tensorflow\\workspace\\images\\train\\WIN_20231227_17_26_23_Pro (2).jpg -> Annotation:C:/Users/Emir/Desktop/ObjectDetectionv2/TFODCourse/Tensorflow/workspace/images/train\\WIN_20231227_17_26_23_Pro (2).xml\n",
      "Image:C:\\Users\\Emir\\Desktop\\ObjectDetectionv2\\TFODCourse\\Tensorflow\\workspace\\images\\train\\WIN_20231227_17_26_23_Pro.jpg -> Annotation:C:/Users/Emir/Desktop/ObjectDetectionv2/TFODCourse/Tensorflow/workspace/images/train\\WIN_20231227_17_26_23_Pro.xml\n",
      "Image:C:\\Users\\Emir\\Desktop\\ObjectDetectionv2\\TFODCourse\\Tensorflow\\workspace\\images\\train\\WIN_20231227_17_26_24_Pro (2).jpg -> Annotation:C:/Users/Emir/Desktop/ObjectDetectionv2/TFODCourse/Tensorflow/workspace/images/train\\WIN_20231227_17_26_24_Pro (2).xml\n",
      "Image:C:\\Users\\Emir\\Desktop\\ObjectDetectionv2\\TFODCourse\\Tensorflow\\workspace\\images\\train\\WIN_20231227_17_26_24_Pro.jpg -> Annotation:C:/Users/Emir/Desktop/ObjectDetectionv2/TFODCourse/Tensorflow/workspace/images/train\\WIN_20231227_17_26_24_Pro.xml\n",
      "Image:C:\\Users\\Emir\\Desktop\\ObjectDetectionv2\\TFODCourse\\Tensorflow\\workspace\\images\\train\\WIN_20231227_17_26_25_Pro.jpg -> Annotation:C:/Users/Emir/Desktop/ObjectDetectionv2/TFODCourse/Tensorflow/workspace/images/train\\WIN_20231227_17_26_25_Pro.xml\n",
      "Image:C:\\Users\\Emir\\Desktop\\ObjectDetectionv2\\TFODCourse\\Tensorflow\\workspace\\images\\train\\WIN_20231227_17_26_26_Pro.jpg -> Annotation:C:/Users/Emir/Desktop/ObjectDetectionv2/TFODCourse/Tensorflow/workspace/images/train\\WIN_20231227_17_26_26_Pro.xml\n",
      "Image:C:\\Users\\Emir\\Desktop\\ObjectDetectionv2\\TFODCourse\\Tensorflow\\workspace\\images\\train\\WIN_20231227_17_26_29_Pro.jpg -> Annotation:C:/Users/Emir/Desktop/ObjectDetectionv2/TFODCourse/Tensorflow/workspace/images/train\\WIN_20231227_17_26_29_Pro.xml\n",
      "Image:C:\\Users\\Emir\\Desktop\\ObjectDetectionv2\\TFODCourse\\Tensorflow\\workspace\\images\\train\\WIN_20231227_17_26_30_Pro.jpg -> Annotation:C:/Users/Emir/Desktop/ObjectDetectionv2/TFODCourse/Tensorflow/workspace/images/train\\WIN_20231227_17_26_30_Pro.xml\n",
      "Image:C:\\Users\\Emir\\Desktop\\ObjectDetectionv2\\TFODCourse\\Tensorflow\\workspace\\images\\train\\WIN_20231227_17_26_31_Pro.jpg -> Annotation:C:/Users/Emir/Desktop/ObjectDetectionv2/TFODCourse/Tensorflow/workspace/images/train\\WIN_20231227_17_26_31_Pro.xml\n",
      "Image:C:\\Users\\Emir\\Desktop\\ObjectDetectionv2\\TFODCourse\\Tensorflow\\workspace\\images\\train\\WIN_20231227_17_26_32_Pro.jpg -> Annotation:C:/Users/Emir/Desktop/ObjectDetectionv2/TFODCourse/Tensorflow/workspace/images/train\\WIN_20231227_17_26_32_Pro.xml\n"
     ]
    }
   ],
   "source": [
    "!cd {LABELIMG_PATH} && python labelImg.py"
   ]
  },
  {
   "cell_type": "markdown",
   "metadata": {},
   "source": [
    "# 6. Move them into a Training and Testing Partition"
   ]
  },
  {
   "cell_type": "markdown",
   "metadata": {},
   "source": [
    "# OPTIONAL - 7. Compress them for Colab Training"
   ]
  },
  {
   "cell_type": "code",
   "execution_count": 20,
   "metadata": {},
   "outputs": [],
   "source": [
    "TRAIN_PATH = os.path.join('Tensorflow', 'workspace', 'images', 'train')\n",
    "TEST_PATH = os.path.join('Tensorflow', 'workspace', 'images', 'test')\n",
    "ARCHIVE_PATH = os.path.join('Tensorflow', 'workspace', 'images', 'archive.tar.gz')"
   ]
  },
  {
   "cell_type": "code",
   "execution_count": 21,
   "metadata": {},
   "outputs": [],
   "source": [
    "!tar -czf {ARCHIVE_PATH} {TRAIN_PATH} {TEST_PATH}"
   ]
  },
  {
   "cell_type": "code",
   "execution_count": null,
   "metadata": {},
   "outputs": [],
   "source": []
  }
 ],
 "metadata": {
  "kernelspec": {
   "display_name": "od",
   "language": "python",
   "name": "od"
  },
  "language_info": {
   "codemirror_mode": {
    "name": "ipython",
    "version": 3
   },
   "file_extension": ".py",
   "mimetype": "text/x-python",
   "name": "python",
   "nbconvert_exporter": "python",
   "pygments_lexer": "ipython3",
   "version": "3.10.0"
  }
 },
 "nbformat": 4,
 "nbformat_minor": 4
}
